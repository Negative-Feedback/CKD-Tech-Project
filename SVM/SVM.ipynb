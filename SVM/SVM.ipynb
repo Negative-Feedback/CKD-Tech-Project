{
 "cells": [
  {
   "cell_type": "code",
   "execution_count": 1,
   "metadata": {
    "collapsed": true
   },
   "outputs": [
    {
     "name": "stdout",
     "output_type": "stream",
     "text": [
      "0.9666666666666667\n"
     ]
    }
   ],
   "source": [
    "#liac-arff, numpy, scipy, and scikit-learn are needed to run this\n",
    "import arff\n",
    "import numpy as np\n",
    "from sklearn import svm\n",
    "from sklearn.model_selection import train_test_split\n",
    "from sklearn.preprocessing import Imputer\n",
    "from sklearn.metrics import accuracy_score\n",
    "\n",
    "dataset = arff.load(open('C:/Users/Matthew/PycharmProjects/CKD-Tech-Project/chronic_kidney_disease.arff')) # loads the dataset\n",
    "#change the filepath to where yours is\n",
    "\n",
    "raw_data = np.array(dataset['data']) # pulls the data out into a numpy array\n",
    "\n",
    "data = raw_data[:, :-1] # takes everything except the last column\n",
    "target = raw_data[:, -1] # just the last column\n",
    "\n",
    "imp = Imputer(missing_values='NaN', strategy='mean', axis=0) #fixes missing data by taking values from other rows and taking the average\n",
    "imp.fit(data) #iirc this fucntion takes the average\n",
    "data = imp.fit_transform(data) #inserts the average into the missing spots\n",
    "\n",
    "data_train, data_test, target_train, target_test = train_test_split(data, target, test_size=0.3)\n",
    " #breaks the dataset into test and training data\n",
    "#30% of data is test data\n",
    "\n",
    "\n",
    "total = 0 # counter to hold the results of all the runs\n",
    "run = 1 # this makes it so that i can adjust the how man times the loop runs with out manually changing what temp is divided by\n",
    "\n",
    "#this for loop is used to average get an average accuracy\n",
    "#For some reason we get slightly different accuracies each time we run the same thing. we are looking into why this happens\n",
    "#so this loop allows us to know if our changes increase or decrease accuracy\n",
    "for x in range(0, run):\n",
    "    clf = svm.SVC(C = 1, kernel='linear', decision_function_shape='ovo', random_state= 6)\n",
    "    clf.fit(data_train, target_train)\n",
    "    predicted = clf.predict(data_test)\n",
    "    total += accuracy_score(target_test, predicted) *100\n",
    "\n",
    "total /= run\n",
    "\n",
    "\n",
    "print(total)"
   ]
  },
  {
   "cell_type": "code",
   "execution_count": null,
   "metadata": {},
   "outputs": [],
   "source": []
  }
 ],
 "metadata": {
  "kernelspec": {
   "display_name": "Python 2",
   "language": "python",
   "name": "python2"
  },
  "language_info": {
   "codemirror_mode": {
    "name": "ipython",
    "version": 2
   },
   "file_extension": ".py",
   "mimetype": "text/x-python",
   "name": "python",
   "nbconvert_exporter": "python",
   "pygments_lexer": "ipython2",
   "version": "2.7.6"
  }
 },
 "nbformat": 4,
 "nbformat_minor": 0
}
