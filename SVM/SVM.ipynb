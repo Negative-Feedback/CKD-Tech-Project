{
 "cells": [
  {
   "cell_type": "code",
   "execution_count": 1,
   "metadata": {
    "collapsed": false
   },
   "outputs": [
    {
     "name": "stdout",
     "output_type": "stream",
     "text": [
      "Accuracy: 97.40 (+/- 4.40)\n"
     ]
    }
   ],
   "source": [
    "#liac-arff, numpy, scipy, and scikit-learn are needed to run this\n",
    "import arff\n",
    "import numpy as np\n",
    "from sklearn import svm\n",
    "from sklearn.model_selection import train_test_split\n",
    "from sklearn.preprocessing import Imputer\n",
    "from sklearn.metrics import accuracy_score\n",
    "from imblearn.over_sampling import SMOTE\n",
    "import matplotlib.pyplot as plt\n",
    "from sklearn.model_selection import cross_val_score\n",
    "\n",
    "def findMin(accuracy): # finds the smallest value in an array\n",
    "    min = accuracy[0]\n",
    "    for x in range (0, len(accuracy)):\n",
    "        if accuracy[x] < min:\n",
    "            min = accuracy[x]\n",
    "\n",
    "    return min\n",
    "\n",
    "\n",
    "def findMax(accuracy): # finds the largest value in an array\n",
    "    max = accuracy[0]\n",
    "    for x in range (0, len(accuracy)):\n",
    "        if accuracy[x] >= max:\n",
    "            max = accuracy[x]\n",
    "\n",
    "    return max\n",
    "\n",
    "dataset = arff.load(open('C:/Users/Matthew/PycharmProjects/CKD-Tech-Project/chronic_kidney_disease.arff')) # loads the dataset\n",
    "#change the filepath to where yours is\n",
    "\n",
    "raw_data = np.array(dataset['data']) # pulls the data out into a numpy array\n",
    "\n",
    "data = raw_data[:, :-1] # takes everything except the last column\n",
    "target = raw_data[:, -1] # just the last column\n",
    "\n",
    "\n",
    "\n",
    "imp = Imputer(missing_values='NaN', strategy='mean', axis=0) #fixes missing data by taking values from other rows and taking the average\n",
    "imp.fit(data) #iirc this fucntion takes the average\n",
    "data = imp.fit_transform(data) #inserts the average into the missing spots\n",
    "data, target = SMOTE().fit_sample(data, target) # oversamples the minority class (notckd)\n",
    "\n",
    "\n",
    "clf = svm.SVC(C = 1, kernel='linear', decision_function_shape='ovo', random_state= 6) # sets up the svm\n",
    "results = cross_val_score(clf, data, target, cv = 10)\n",
    "print(\"Accuracy: %0.2f (+/- %0.2f)\" % (results.mean()*100, results.std() * 200))"
   ]
  },
  {
   "cell_type": "code",
   "execution_count": null,
   "metadata": {},
   "outputs": [],
   "source": []
  }
 ],
 "metadata": {
  "kernelspec": {
   "display_name": "Python 2",
   "language": "python",
   "name": "python2"
  },
  "language_info": {
   "codemirror_mode": {
    "name": "ipython",
    "version": 2
   },
   "file_extension": ".py",
   "mimetype": "text/x-python",
   "name": "python",
   "nbconvert_exporter": "python",
   "pygments_lexer": "ipython2",
   "version": "2.7.6"
  }
 },
 "nbformat": 4,
 "nbformat_minor": 0
}
